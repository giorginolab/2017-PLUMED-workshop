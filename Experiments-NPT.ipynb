{
 "cells": [
  {
   "cell_type": "code",
   "execution_count": 1,
   "metadata": {
    "collapsed": true
   },
   "outputs": [],
   "source": [
    " %qtconsole\n",
    "\n",
    "from simtk.openmm.app import *\n",
    "from simtk.openmm import *\n",
    "from simtk.unit import *\n",
    "from sys import stdout\n"
   ]
  },
  {
   "cell_type": "code",
   "execution_count": 2,
   "metadata": {
    "collapsed": false
   },
   "outputs": [
    {
     "name": "stdout",
     "output_type": "stream",
     "text": [
      "-I: Adding /home/toni/Apps/anaconda3/bin/../dat/leap/prep to search path.\n",
      "-I: Adding /home/toni/Apps/anaconda3/bin/../dat/leap/lib to search path.\n",
      "-I: Adding /home/toni/Apps/anaconda3/bin/../dat/leap/parm to search path.\n",
      "-I: Adding /home/toni/Apps/anaconda3/bin/../dat/leap/cmd to search path.\n",
      "-f: Source -.\n",
      "\n",
      "Welcome to LEaP!\n",
      "(no leaprc in search path)\n",
      "Sourcing: /home/toni/Apps/anaconda3/bin/../dat/leap/cmd/leaprc\n",
      "----- Source: /home/toni/Apps/anaconda3/bin/../dat/leap/cmd/leaprc.ff14SB\n",
      "----- Source of /home/toni/Apps/anaconda3/bin/../dat/leap/cmd/leaprc.ff14SB done\n",
      "Log file: ./leap.log\n",
      "Loading parameters: /home/toni/Apps/anaconda3/bin/../dat/leap/parm/parm10.dat\n",
      "Reading title:\n",
      "PARM99 + frcmod.ff99SB + frcmod.parmbsc0 + OL3 for RNA\n",
      "Loading parameters: /home/toni/Apps/anaconda3/bin/../dat/leap/parm/frcmod.ff14SB\n",
      "Reading force field modification type file (frcmod)\n",
      "Reading title:\n",
      "ff14SB protein backbone and sidechain parameters\n",
      "Loading library: /home/toni/Apps/anaconda3/bin/../dat/leap/lib/amino12.lib\n",
      "Loading library: /home/toni/Apps/anaconda3/bin/../dat/leap/lib/aminoct12.lib\n",
      "Loading library: /home/toni/Apps/anaconda3/bin/../dat/leap/lib/aminont12.lib\n",
      "Loading library: /home/toni/Apps/anaconda3/bin/../dat/leap/lib/nucleic12.lib\n",
      "Loading library: /home/toni/Apps/anaconda3/bin/../dat/leap/lib/atomic_ions.lib\n",
      "Loading library: /home/toni/Apps/anaconda3/bin/../dat/leap/lib/solvents.lib\n",
      "  Solute vdw bounding box:              8.118 10.679 5.995\n",
      "  Total bounding box for atom centers:  24.118 26.679 21.995\n",
      "  Solvent unit box:                     18.774 18.774 18.774\n",
      "  Total vdw box size:                   27.188 29.718 25.397 angstroms.\n",
      "  Volume: 20520.340 A^3 \n",
      "  Total mass 7026.288 amu,  Density 0.569 g/cc\n",
      "  Added 382 residues.\n",
      "Checking Unit.\n",
      "Building topology.\n",
      "Building atom parameters.\n",
      "Building bond parameters.\n",
      "Building angle parameters.\n",
      "Building proper torsion parameters.\n",
      "Building improper torsion parameters.\n",
      " total 4 improper torsions applied\n",
      "Building H-Bond parameters.\n",
      "Incorporating Non-Bonded adjustments.\n",
      "Not Marking per-residue atom chain types.\n",
      "Marking per-residue atom chain types.\n",
      "  (Residues lacking connect0/connect1 - \n",
      "   these don't have chain types marked:\n",
      "\n",
      "\tres\ttotal affected\n",
      "\n",
      "\tWAT\t382\n",
      "  )\n",
      " (no restraints)\n",
      "Writing pdb file: diala.pdb\n",
      "\tQuit\n",
      "\n"
     ]
    }
   ],
   "source": [
    "tleap_in=b\"\"\"\n",
    "source leaprc.ff14SB\n",
    "m = sequence { ACE ALA NME }\n",
    "solvatebox m TIP3PBOX 8\n",
    "saveAmberParm m diala.prmtop diala.rst7\n",
    "savepdb m diala.pdb\n",
    "quit\n",
    "\"\"\"\n",
    "\n",
    "from subprocess import Popen, PIPE, STDOUT\n",
    "tleap_out,tleap_err = Popen(['tleap','-f','-'], stdout=PIPE, stdin=PIPE, stderr=PIPE)\\\n",
    "    .communicate(input=tleap_in)\n",
    "\n",
    "if tleap_err != b'':\n",
    "    print(\"****** Something went wrong, STDERR follows ******\")\n",
    "    print(tleap_err.decode())\n",
    "    print(\"****** STDOUT follows ******\")\n",
    "\n",
    "print(tleap_out.decode())\n"
   ]
  },
  {
   "cell_type": "code",
   "execution_count": 3,
   "metadata": {
    "collapsed": false
   },
   "outputs": [],
   "source": [
    "prmtop = AmberPrmtopFile('diala.prmtop')\n",
    "inpcrd = AmberInpcrdFile('diala.rst7')"
   ]
  },
  {
   "cell_type": "code",
   "execution_count": 4,
   "metadata": {
    "collapsed": true
   },
   "outputs": [],
   "source": [
    "system = prmtop.createSystem(nonbondedMethod=CutoffPeriodic, \n",
    "                             nonbondedCutoff=1*nanometer,\n",
    "                             constraints=HBonds)"
   ]
  },
  {
   "cell_type": "code",
   "execution_count": 5,
   "metadata": {
    "collapsed": false
   },
   "outputs": [
    {
     "data": {
      "text/plain": [
       "5"
      ]
     },
     "execution_count": 5,
     "metadata": {},
     "output_type": "execute_result"
    }
   ],
   "source": [
    "barostat = openmm.MonteCarloBarostat(1.0*bar, 300.0*kelvin, 25)\n",
    "system.addForce(barostat)"
   ]
  },
  {
   "cell_type": "code",
   "execution_count": 6,
   "metadata": {
    "collapsed": true
   },
   "outputs": [],
   "source": [
    "integrator = LangevinIntegrator(300*kelvin, 1/picosecond, 0.002*picoseconds)"
   ]
  },
  {
   "cell_type": "code",
   "execution_count": 7,
   "metadata": {
    "collapsed": false
   },
   "outputs": [],
   "source": [
    "try:\n",
    "    platform = openmm.Platform.getPlatformByName('CUDA')\n",
    "except:\n",
    "    platform = openmm.Platform.getPlatformByName('CPU')       \n",
    "\n",
    "simulation = Simulation(prmtop.topology, system, integrator, platform)\n",
    "simulation.context.setPositions(inpcrd.positions)\n",
    "\n",
    "if inpcrd.boxVectors is not None:\n",
    "    simulation.context.setPeriodicBoxVectors(*inpcrd.boxVectors)\n",
    "\n",
    "PDBReporter(\"pre.pdb\",1).report(simulation,simulation.context.getState(getPositions=True))"
   ]
  },
  {
   "cell_type": "code",
   "execution_count": 8,
   "metadata": {
    "collapsed": false
   },
   "outputs": [
    {
     "ename": "SyntaxError",
     "evalue": "positional argument follows keyword argument (<ipython-input-8-7a5acca3cc8e>, line 8)",
     "output_type": "error",
     "traceback": [
      "\u001b[0;36m  File \u001b[0;32m\"<ipython-input-8-7a5acca3cc8e>\"\u001b[0;36m, line \u001b[0;32m8\u001b[0m\n\u001b[0;31m    simulation.reporters.append(StateDataReporter(file=\"output.log\", 1000, step=True,\u001b[0m\n\u001b[0m                                                                    ^\u001b[0m\n\u001b[0;31mSyntaxError\u001b[0m\u001b[0;31m:\u001b[0m positional argument follows keyword argument\n"
     ]
    }
   ],
   "source": [
    "simulation.minimizeEnergy()\n",
    "PDBReporter(\"mini.pdb\",1).report(simulation,simulation.context.getState(getPositions=True))\n",
    "\n",
    "\n",
    "simulation.reporters.append(DCDReporter('output.dcd', 1000))\n",
    "simulation.reporters.append(StateDataReporter(stdout, 1000, step=True,\n",
    "        potentialEnergy=True, temperature=True,volume=True))\n",
    "simulation.reporters.append(StateDataReporter(\"output.log\", 1000, step=True,\n",
    "        potentialEnergy=True, temperature=True,volume=True))\n",
    "simulation.step(100000)\n",
    "simulation.saveState(\"checkpoint.state\")"
   ]
  },
  {
   "cell_type": "code",
   "execution_count": null,
   "metadata": {
    "collapsed": true
   },
   "outputs": [],
   "source": []
  }
 ],
 "metadata": {
  "anaconda-cloud": {},
  "kernelspec": {
   "display_name": "Python [conda root]",
   "language": "python",
   "name": "conda-root-py"
  },
  "language_info": {
   "codemirror_mode": {
    "name": "ipython",
    "version": 3
   },
   "file_extension": ".py",
   "mimetype": "text/x-python",
   "name": "python",
   "nbconvert_exporter": "python",
   "pygments_lexer": "ipython3",
   "version": "3.5.2"
  }
 },
 "nbformat": 4,
 "nbformat_minor": 1
}
