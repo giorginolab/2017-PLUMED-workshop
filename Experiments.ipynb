{
 "cells": [
  {
   "cell_type": "code",
   "execution_count": 32,
   "metadata": {
    "collapsed": false
   },
   "outputs": [],
   "source": [
    "from htmd import *"
   ]
  },
  {
   "cell_type": "code",
   "execution_count": 57,
   "metadata": {
    "collapsed": false
   },
   "outputs": [
    {
     "name": "stdout",
     "output_type": "stream",
     "text": [
      "-I: Adding /Users/toni/anaconda3/bin/../dat/leap/prep to search path.\n",
      "-I: Adding /Users/toni/anaconda3/bin/../dat/leap/lib to search path.\n",
      "-I: Adding /Users/toni/anaconda3/bin/../dat/leap/parm to search path.\n",
      "-I: Adding /Users/toni/anaconda3/bin/../dat/leap/cmd to search path.\n",
      "-f: Source -.\n",
      "\n",
      "Welcome to LEaP!\n",
      "(no leaprc in search path)\n",
      "Sourcing: /Users/toni/anaconda3/bin/../dat/leap/cmd/leaprc\n",
      "----- Source: /Users/toni/anaconda3/bin/../dat/leap/cmd/leaprc.ff14SB\n",
      "----- Source of /Users/toni/anaconda3/bin/../dat/leap/cmd/leaprc.ff14SB done\n",
      "Log file: ./leap.log\n",
      "Loading parameters: /Users/toni/anaconda3/bin/../dat/leap/parm/parm10.dat\n",
      "Reading title:\n",
      "PARM99 + frcmod.ff99SB + frcmod.parmbsc0 + OL3 for RNA\n",
      "Loading parameters: /Users/toni/anaconda3/bin/../dat/leap/parm/frcmod.ff14SB\n",
      "Reading force field modification type file (frcmod)\n",
      "Reading title:\n",
      "ff14SB protein backbone and sidechain parameters\n",
      "Loading library: /Users/toni/anaconda3/bin/../dat/leap/lib/amino12.lib\n",
      "Loading library: /Users/toni/anaconda3/bin/../dat/leap/lib/aminoct12.lib\n",
      "Loading library: /Users/toni/anaconda3/bin/../dat/leap/lib/aminont12.lib\n",
      "Loading library: /Users/toni/anaconda3/bin/../dat/leap/lib/nucleic12.lib\n",
      "Loading library: /Users/toni/anaconda3/bin/../dat/leap/lib/atomic_ions.lib\n",
      "Loading library: /Users/toni/anaconda3/bin/../dat/leap/lib/solvents.lib\n",
      "Checking Unit.\n",
      "Building topology.\n",
      "Building atom parameters.\n",
      "Building bond parameters.\n",
      "Building angle parameters.\n",
      "Building proper torsion parameters.\n",
      "Building improper torsion parameters.\n",
      " total 4 improper torsions applied\n",
      "Building H-Bond parameters.\n",
      "Incorporating Non-Bonded adjustments.\n",
      "Not Marking per-residue atom chain types.\n",
      "Marking per-residue atom chain types.\n",
      " (no restraints)\n",
      "Writing pdb file: diala.pdb\n",
      "\tQuit\n",
      "\n"
     ]
    }
   ],
   "source": [
    "tleap_in=b\"\"\"\n",
    "source leaprc.ff14SB\n",
    "m = sequence { ACE ALA NME }\n",
    "saveAmberParm m diala.prmtop diala.rst7\n",
    "savepdb m diala.pdb\n",
    "quit\n",
    "\"\"\"\n",
    "\n",
    "from subprocess import Popen, PIPE, STDOUT\n",
    "tleap_out,tleap_err = Popen(['tleap','-f','-'], stdout=PIPE, stdin=PIPE, stderr=PIPE)\\\n",
    "    .communicate(input=tleap_in)\n",
    "\n",
    "if tleap_err != b'':\n",
    "    print(\"****** Something went wrong, STDERR follows ******\")\n",
    "    print(tleap_err.decode())\n",
    "    print(\"****** STDOUT follows ******\")\n",
    "\n",
    "print(tleap_out.decode())\n"
   ]
  },
  {
   "cell_type": "code",
   "execution_count": 58,
   "metadata": {
    "collapsed": true
   },
   "outputs": [],
   "source": [
    "%qtconsole"
   ]
  },
  {
   "cell_type": "code",
   "execution_count": 97,
   "metadata": {
    "collapsed": false
   },
   "outputs": [],
   "source": [
    "from simtk.openmm.app import *\n",
    "from simtk.openmm import *\n",
    "from simtk.unit import *\n",
    "from sys import stdout\n",
    "\n",
    "prmtop = AmberPrmtopFile('diala.prmtop')\n",
    "inpcrd = AmberInpcrdFile('diala.rst7')"
   ]
  },
  {
   "cell_type": "code",
   "execution_count": 99,
   "metadata": {
    "collapsed": true
   },
   "outputs": [],
   "source": [
    "system = prmtop.createSystem(nonbondedMethod=CutoffNonPeriodic, \n",
    "                             nonbondedCutoff=1*nanometer,\n",
    "                             constraints=HBonds)"
   ]
  },
  {
   "cell_type": "code",
   "execution_count": 101,
   "metadata": {
    "collapsed": true
   },
   "outputs": [],
   "source": [
    "integrator = LangevinIntegrator(300*kelvin, 1/picosecond, 0.002*picoseconds)"
   ]
  },
  {
   "cell_type": "code",
   "execution_count": 102,
   "metadata": {
    "collapsed": false
   },
   "outputs": [],
   "source": [
    "platform = mm.Platform.getPlatformByName('CPU')\n",
    "simulation = Simulation(prmtop.topology, system, integrator, platform)\n",
    "simulation.context.setPositions(inpcrd.positions)\n",
    "\n",
    "if inpcrd.boxVectors is not None:\n",
    "    simulation.context.setPeriodicBoxVectors(*inpcrd.boxVectors)\n",
    "\n",
    "PDBReporter(\"pre.pdb\",1).report(simulation,simulation.context.getState(getPositions=True))"
   ]
  },
  {
   "cell_type": "code",
   "execution_count": 103,
   "metadata": {
    "collapsed": false
   },
   "outputs": [
    {
     "name": "stdout",
     "output_type": "stream",
     "text": [
      "#\"Step\",\"Potential Energy (kJ/mole)\",\"Temperature (K)\"\n",
      "1000,130.9051091321744,189.6424658522868\n",
      "2000,109.16815137863159,324.81944345351064\n",
      "3000,134.35766665171832,306.08951220367265\n",
      "4000,123.53904725424945,272.59757735578546\n",
      "5000,131.94062200764165,311.15243490637977\n",
      "6000,120.44675515592098,351.17569266132733\n",
      "7000,112.02134200633736,287.13521303158785\n",
      "8000,118.60111713083461,319.91233037299156\n",
      "9000,134.9045149856247,355.3358195889588\n",
      "10000,119.91769239906222,250.73477387320276\n"
     ]
    }
   ],
   "source": [
    "simulation.minimizeEnergy()\n",
    "PDBReporter(\"mini.pdb\",1).report(simulation,simulation.context.getState(getPositions=True))\n",
    "\n",
    "\n",
    "\n",
    "simulation.reporters.append(PDBReporter('output.pdb', 1000))\n",
    "simulation.reporters.append(StateDataReporter(stdout, 1000, step=True,\n",
    "        potentialEnergy=True, temperature=True))\n",
    "simulation.step(10000)"
   ]
  },
  {
   "cell_type": "code",
   "execution_count": null,
   "metadata": {
    "collapsed": true
   },
   "outputs": [],
   "source": []
  }
 ],
 "metadata": {
  "anaconda-cloud": {},
  "kernelspec": {
   "display_name": "Python [conda root]",
   "language": "python",
   "name": "conda-root-py"
  },
  "language_info": {
   "codemirror_mode": {
    "name": "ipython",
    "version": 3
   },
   "file_extension": ".py",
   "mimetype": "text/x-python",
   "name": "python",
   "nbconvert_exporter": "python",
   "pygments_lexer": "ipython3",
   "version": "3.5.2"
  }
 },
 "nbformat": 4,
 "nbformat_minor": 1
}
