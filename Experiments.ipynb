{
 "cells": [
  {
   "cell_type": "code",
   "execution_count": 1,
   "metadata": {
    "collapsed": true
   },
   "outputs": [],
   "source": [
    "# %qtconsole\n",
    "\n",
    "from simtk.openmm.app import *\n",
    "from simtk.openmm import *\n",
    "from simtk.unit import *\n",
    "from sys import stdout\n"
   ]
  },
  {
   "cell_type": "code",
   "execution_count": 2,
   "metadata": {
    "collapsed": false
   },
   "outputs": [
    {
     "name": "stdout",
     "output_type": "stream",
     "text": [
      "-I: Adding /home/toni/Apps/anaconda3/bin/../dat/leap/prep to search path.\n",
      "-I: Adding /home/toni/Apps/anaconda3/bin/../dat/leap/lib to search path.\n",
      "-I: Adding /home/toni/Apps/anaconda3/bin/../dat/leap/parm to search path.\n",
      "-I: Adding /home/toni/Apps/anaconda3/bin/../dat/leap/cmd to search path.\n",
      "-f: Source -.\n",
      "\n",
      "Welcome to LEaP!\n",
      "(no leaprc in search path)\n",
      "Sourcing: /home/toni/Apps/anaconda3/bin/../dat/leap/cmd/leaprc\n",
      "----- Source: /home/toni/Apps/anaconda3/bin/../dat/leap/cmd/leaprc.ff14SB\n",
      "----- Source of /home/toni/Apps/anaconda3/bin/../dat/leap/cmd/leaprc.ff14SB done\n",
      "Log file: ./leap.log\n",
      "Loading parameters: /home/toni/Apps/anaconda3/bin/../dat/leap/parm/parm10.dat\n",
      "Reading title:\n",
      "PARM99 + frcmod.ff99SB + frcmod.parmbsc0 + OL3 for RNA\n",
      "Loading parameters: /home/toni/Apps/anaconda3/bin/../dat/leap/parm/frcmod.ff14SB\n",
      "Reading force field modification type file (frcmod)\n",
      "Reading title:\n",
      "ff14SB protein backbone and sidechain parameters\n",
      "Loading library: /home/toni/Apps/anaconda3/bin/../dat/leap/lib/amino12.lib\n",
      "Loading library: /home/toni/Apps/anaconda3/bin/../dat/leap/lib/aminoct12.lib\n",
      "Loading library: /home/toni/Apps/anaconda3/bin/../dat/leap/lib/aminont12.lib\n",
      "Loading library: /home/toni/Apps/anaconda3/bin/../dat/leap/lib/nucleic12.lib\n",
      "Loading library: /home/toni/Apps/anaconda3/bin/../dat/leap/lib/atomic_ions.lib\n",
      "Loading library: /home/toni/Apps/anaconda3/bin/../dat/leap/lib/solvents.lib\n",
      "Checking Unit.\n",
      "Building topology.\n",
      "Building atom parameters.\n",
      "Building bond parameters.\n",
      "Building angle parameters.\n",
      "Building proper torsion parameters.\n",
      "Building improper torsion parameters.\n",
      " total 4 improper torsions applied\n",
      "Building H-Bond parameters.\n",
      "Incorporating Non-Bonded adjustments.\n",
      "Not Marking per-residue atom chain types.\n",
      "Marking per-residue atom chain types.\n",
      " (no restraints)\n",
      "Writing pdb file: diala.pdb\n",
      "\tQuit\n",
      "\n"
     ]
    }
   ],
   "source": [
    "tleap_in=b\"\"\"\n",
    "source leaprc.ff14SB\n",
    "m = sequence { ACE ALA NME }\n",
    "# solvatebox m TIP3PBOX 8\n",
    "saveAmberParm m diala.prmtop diala.rst7\n",
    "savepdb m diala.pdb\n",
    "quit\n",
    "\"\"\"\n",
    "\n",
    "from subprocess import Popen, PIPE, STDOUT\n",
    "tleap_out,tleap_err = Popen(['tleap','-f','-'], stdout=PIPE, stdin=PIPE, stderr=PIPE)\\\n",
    "    .communicate(input=tleap_in)\n",
    "\n",
    "if tleap_err != b'':\n",
    "    print(\"****** Something went wrong, STDERR follows ******\")\n",
    "    print(tleap_err.decode())\n",
    "    print(\"****** STDOUT follows ******\")\n",
    "\n",
    "print(tleap_out.decode())\n"
   ]
  },
  {
   "cell_type": "code",
   "execution_count": 3,
   "metadata": {
    "collapsed": false
   },
   "outputs": [],
   "source": [
    "prmtop = AmberPrmtopFile('diala.prmtop')\n",
    "inpcrd = AmberInpcrdFile('diala.rst7')"
   ]
  },
  {
   "cell_type": "code",
   "execution_count": 4,
   "metadata": {
    "collapsed": true
   },
   "outputs": [],
   "source": [
    "system = prmtop.createSystem(nonbondedMethod=CutoffNonPeriodic, \n",
    "                             nonbondedCutoff=1*nanometer,\n",
    "                             constraints=HBonds)"
   ]
  },
  {
   "cell_type": "code",
   "execution_count": 5,
   "metadata": {
    "collapsed": true
   },
   "outputs": [],
   "source": [
    "integrator = LangevinIntegrator(300*kelvin, 1/picosecond, 0.002*picoseconds)"
   ]
  },
  {
   "cell_type": "code",
   "execution_count": 6,
   "metadata": {
    "collapsed": false
   },
   "outputs": [],
   "source": [
    "try:\n",
    "    platform = openmm.Platform.getPlatformByName('CUDA')\n",
    "except:\n",
    "    platform = openmm.Platform.getPlatformByName('CPU')       \n",
    "\n",
    "simulation = Simulation(prmtop.topology, system, integrator, platform)\n",
    "simulation.context.setPositions(inpcrd.positions)\n",
    "\n",
    "if inpcrd.boxVectors is not None:\n",
    "    simulation.context.setPeriodicBoxVectors(*inpcrd.boxVectors)\n",
    "\n",
    "PDBReporter(\"pre.pdb\",1).report(simulation,simulation.context.getState(getPositions=True))"
   ]
  },
  {
   "cell_type": "code",
   "execution_count": 7,
   "metadata": {
    "collapsed": false
   },
   "outputs": [
    {
     "name": "stdout",
     "output_type": "stream",
     "text": [
      "#\"Step\",\"Potential Energy (kJ/mole)\",\"Temperature (K)\",\"Box Volume (nm^3)\"\n",
      "1000,110.25953063956695,231.10983664414735,8.0\n",
      "2000,120.90257874969393,346.36015568182904,8.0\n",
      "3000,111.34771194425412,288.0823048543153,8.0\n",
      "4000,115.9707443639636,307.90571256358544,8.0\n",
      "5000,138.56312300590798,311.644895158403,8.0\n",
      "6000,141.78857967152726,216.72110410113075,8.0\n",
      "7000,130.0610652845353,333.5421723848049,8.0\n",
      "8000,118.06487472586014,298.2742599285882,8.0\n",
      "9000,136.0253886571154,370.1891886874723,8.0\n",
      "10000,127.23438787579289,344.6039242213466,8.0\n"
     ]
    }
   ],
   "source": [
    "simulation.minimizeEnergy()\n",
    "PDBReporter(\"mini.pdb\",1).report(simulation,simulation.context.getState(getPositions=True))\n",
    "\n",
    "\n",
    "simulation.reporters.append(DCDReporter('output.dcd', 1000))\n",
    "simulation.reporters.append(StateDataReporter(stdout, 1000, step=True,\n",
    "        potentialEnergy=True, temperature=True,volume=True))\n",
    "simulation.step(10000)\n",
    "simulation.saveState(\"checkpoint.state\")"
   ]
  },
  {
   "cell_type": "code",
   "execution_count": null,
   "metadata": {
    "collapsed": true
   },
   "outputs": [],
   "source": []
  }
 ],
 "metadata": {
  "anaconda-cloud": {},
  "kernelspec": {
   "display_name": "Python [conda root]",
   "language": "python",
   "name": "conda-root-py"
  },
  "language_info": {
   "codemirror_mode": {
    "name": "ipython",
    "version": 3
   },
   "file_extension": ".py",
   "mimetype": "text/x-python",
   "name": "python",
   "nbconvert_exporter": "python",
   "pygments_lexer": "ipython3",
   "version": "3.5.2"
  }
 },
 "nbformat": 4,
 "nbformat_minor": 1
}
